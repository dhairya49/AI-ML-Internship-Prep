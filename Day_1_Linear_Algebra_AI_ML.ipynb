{
 "cells": [
  {
   "cell_type": "markdown",
   "id": "1375a7c8",
   "metadata": {},
   "source": [
    "# Day 1 - Linear Algebra Basics for AI/ML\n",
    "Today we'll learn about vectors, matrices, dot products, and matrix multiplication using NumPy."
   ]
  },
  {
   "cell_type": "markdown",
   "id": "8cc0798c",
   "metadata": {},
   "source": [
    "## Concepts\n",
    "- **Vector**: 1D array of numbers representing magnitude and direction.\n",
    "- **Matrix**: 2D array of numbers arranged in rows and columns.\n",
    "- **Dot Product**: Scalar value from multiplying corresponding elements of two vectors and summing them.\n",
    "- **Matrix Multiplication**: Combining two matrices where the number of columns in the first equals the number of rows in the second.\n",
    "- These are heavily used in AI for embeddings, transformations, and neural network weight calculations."
   ]
  },
  {
   "cell_type": "code",
   "execution_count": 1,
   "id": "14923f4a",
   "metadata": {},
   "outputs": [],
   "source": [
    "import numpy as np\n",
    "np.set_printoptions(suppress=True)  # For cleaner output"
   ]
  },
  {
   "cell_type": "code",
   "execution_count": 2,
   "id": "ba1d8bb9",
   "metadata": {},
   "outputs": [
    {
     "name": "stdout",
     "output_type": "stream",
     "text": [
      "Vector 1: [1 2 3]\n",
      "Vector 2: [4 5 6]\n",
      "Dot Product: 32\n"
     ]
    }
   ],
   "source": [
    "# Creating vectors\n",
    "v1 = np.array([1, 2, 3])\n",
    "v2 = np.array([4, 5, 6])\n",
    "print('Vector 1:', v1)\n",
    "print('Vector 2:', v2)\n",
    "\n",
    "# Dot product\n",
    "dot = np.dot(v1, v2)\n",
    "print('Dot Product:', dot)"
   ]
  },
  {
   "cell_type": "code",
   "execution_count": 3,
   "id": "14fb11b6",
   "metadata": {},
   "outputs": [
    {
     "name": "stdout",
     "output_type": "stream",
     "text": [
      "Matrix 1:\n",
      " [[1 2]\n",
      " [3 4]]\n",
      "Matrix 2:\n",
      " [[5 6]\n",
      " [7 8]]\n",
      "Matrix Multiplication:\n",
      " [[19 22]\n",
      " [43 50]]\n"
     ]
    }
   ],
   "source": [
    "# Creating matrices\n",
    "m1 = np.array([[1, 2], [3, 4]])\n",
    "m2 = np.array([[5, 6], [7, 8]])\n",
    "print('Matrix 1:\\n', m1)\n",
    "print('Matrix 2:\\n', m2)\n",
    "\n",
    "# Matrix multiplication\n",
    "mat_mul = np.matmul(m1, m2)\n",
    "print('Matrix Multiplication:\\n', mat_mul)"
   ]
  },
  {
   "cell_type": "code",
   "execution_count": 4,
   "id": "2ed5e24a",
   "metadata": {},
   "outputs": [
    {
     "name": "stdout",
     "output_type": "stream",
     "text": [
      "Matrix A:\n",
      " [[10  2  7]\n",
      " [ 2  1  3]\n",
      " [ 7  7  7]]\n",
      "Matrix B:\n",
      " [[6 2 4]\n",
      " [1 9 3]\n",
      " [4 9 8]]\n",
      "Dot Product of first rows: 92\n",
      "Matrix Multiplication (A x B):\n",
      " [[ 90 101 102]\n",
      " [ 25  40  35]\n",
      " [ 77 140 105]]\n"
     ]
    }
   ],
   "source": [
    "# Mini Exercise\n",
    "# Create two 3x3 matrices with random integers 1–10\n",
    "A = np.random.randint(1, 11, (3, 3))\n",
    "B = np.random.randint(1, 11, (3, 3))\n",
    "print('Matrix A:\\n', A)\n",
    "print('Matrix B:\\n', B)\n",
    "\n",
    "# Dot product of first row in both matrices\n",
    "row_dot = np.dot(A[0], B[0])\n",
    "print('Dot Product of first rows:', row_dot)\n",
    "\n",
    "# Matrix multiplication\n",
    "AB_mul = np.matmul(A, B)\n",
    "print('Matrix Multiplication (A x B):\\n', AB_mul)"
   ]
  }
 ],
 "metadata": {
  "kernelspec": {
   "display_name": "Python [conda env:base] *",
   "language": "python",
   "name": "conda-base-py"
  }
 },
 "nbformat": 4,
 "nbformat_minor": 5
}
