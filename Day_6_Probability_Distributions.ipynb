{
 "cells": [
  {
   "cell_type": "markdown",
   "id": "ace2347b",
   "metadata": {},
   "source": [
    "\n",
    "# Day 6 — Probability Distributions for Machine Learning\n",
    "\n",
    "**Author:** Dhairya Patel  \n",
    "\n",
    "This notebook covers:\n",
    "1. Bernoulli Distribution\n",
    "2. Binomial Distribution\n",
    "3. Uniform Distribution\n",
    "4. Normal Distribution\n",
    "5. Visualization & ML context\n"
   ]
  },
  {
   "cell_type": "code",
   "execution_count": null,
   "id": "1df7c964",
   "metadata": {},
   "outputs": [],
   "source": [
    "\n",
    "import numpy as np\n",
    "import matplotlib.pyplot as plt\n",
    "from scipy.stats import bernoulli, binom, norm, uniform\n"
   ]
  },
  {
   "cell_type": "markdown",
   "id": "866e903e",
   "metadata": {},
   "source": [
    "## Bernoulli Distribution"
   ]
  },
  {
   "cell_type": "code",
   "execution_count": null,
   "id": "caeae27e",
   "metadata": {},
   "outputs": [],
   "source": [
    "\n",
    "p = 0.5\n",
    "data = bernoulli.rvs(p, size=1000)\n",
    "\n",
    "plt.hist(data, bins=2, edgecolor='black')\n",
    "plt.title(\"Bernoulli Distribution (p=0.5)\")\n",
    "plt.xticks([0,1])\n",
    "plt.show()\n"
   ]
  },
  {
   "cell_type": "markdown",
   "id": "17763594",
   "metadata": {},
   "source": [
    "## Binomial Distribution"
   ]
  },
  {
   "cell_type": "code",
   "execution_count": null,
   "id": "2d78dba5",
   "metadata": {},
   "outputs": [],
   "source": [
    "\n",
    "n, p = 10, 0.5\n",
    "data = binom.rvs(n, p, size=1000)\n",
    "\n",
    "plt.hist(data, bins=10, edgecolor='black')\n",
    "plt.title(\"Binomial Distribution (n=10, p=0.5)\")\n",
    "plt.show()\n"
   ]
  },
  {
   "cell_type": "markdown",
   "id": "85d42c57",
   "metadata": {},
   "source": [
    "## Uniform Distribution"
   ]
  },
  {
   "cell_type": "code",
   "execution_count": null,
   "id": "87d77131",
   "metadata": {},
   "outputs": [],
   "source": [
    "\n",
    "data = uniform.rvs(size=1000)\n",
    "\n",
    "plt.hist(data, bins=20, edgecolor='black')\n",
    "plt.title(\"Uniform Distribution (0,1)\")\n",
    "plt.show()\n"
   ]
  },
  {
   "cell_type": "markdown",
   "id": "f8e431e5",
   "metadata": {},
   "source": [
    "## Normal Distribution"
   ]
  },
  {
   "cell_type": "code",
   "execution_count": null,
   "id": "ffdff246",
   "metadata": {},
   "outputs": [],
   "source": [
    "\n",
    "data = norm.rvs(loc=0, scale=1, size=1000)\n",
    "\n",
    "plt.hist(data, bins=30, density=True, edgecolor='black', alpha=0.6)\n",
    "\n",
    "x = np.linspace(-4, 4, 100)\n",
    "plt.plot(x, norm.pdf(x, 0, 1), 'r', label='PDF')\n",
    "plt.legend()\n",
    "plt.title(\"Normal Distribution (mean=0, std=1)\")\n",
    "plt.show()\n"
   ]
  },
  {
   "cell_type": "markdown",
   "id": "3257c72a",
   "metadata": {},
   "source": [
    "\n",
    "---\n",
    "\n",
    "### Notes\n",
    "- **Bernoulli:** models binary outcomes (classification labels)\n",
    "- **Binomial:** multiple Bernoulli trials\n",
    "- **Uniform:** equal likelihood → baseline\n",
    "- **Normal:** central to ML (errors, initialization, statistics)\n",
    "\n",
    "**End of Day 6.**\n"
   ]
  }
 ],
 "metadata": {},
 "nbformat": 4,
 "nbformat_minor": 5
}
