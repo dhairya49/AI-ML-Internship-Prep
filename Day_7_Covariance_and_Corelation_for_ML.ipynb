{
 "cells": [
  {
   "cell_type": "code",
   "execution_count": null,
   "metadata": {
    "vscode": {
     "languageId": "plaintext"
    }
   },
   "outputs": [],
   "source": [
    "# ──────────────────────────────\n",
    "# Day 7 — Covariance & Correlation for Machine Learning\n",
    "# ──────────────────────────────\n",
    "\n",
    "\"\"\"\n",
    "# Day 7 — Covariance & Correlation for Machine Learning\n",
    "\n",
    "**Author:** Dhairya Patel  \n",
    "\n",
    "This notebook covers:\n",
    "1. Covariance\n",
    "2. Correlation\n",
    "3. Visualizations with scatter plots\n",
    "4. Applications in ML\n",
    "\"\"\"\n"
   ]
  },
  {
   "cell_type": "code",
   "execution_count": null,
   "id": "f13db46b",
   "metadata": {
    "vscode": {
     "languageId": "plaintext"
    }
   },
   "outputs": [],
   "source": [
    "# Cell 2: Imports\n",
    "import numpy as np\n",
    "import matplotlib.pyplot as plt\n"
   ]
  },
  {
   "cell_type": "code",
   "execution_count": null,
   "id": "78f47a96",
   "metadata": {
    "vscode": {
     "languageId": "plaintext"
    }
   },
   "outputs": [],
   "source": [
    "# Cell 3: Covariance\n",
    "\"\"\"\n",
    "## Covariance\n",
    "Measures how two variables change together.\n",
    "\"\"\"\n"
   ]
  },
  {
   "cell_type": "code",
   "execution_count": null,
   "id": "a5843c41",
   "metadata": {
    "vscode": {
     "languageId": "plaintext"
    }
   },
   "outputs": [],
   "source": [
    "# Example Data\n",
    "x = np.array([2, 4, 6, 8, 10])\n",
    "y = np.array([1, 2, 3, 4, 5])  # Strong positive relationship\n",
    "\n",
    "cov_matrix = np.cov(x, y)\n",
    "cov_matrix\n"
   ]
  },
  {
   "cell_type": "code",
   "execution_count": null,
   "id": "720d2bec",
   "metadata": {
    "vscode": {
     "languageId": "plaintext"
    }
   },
   "outputs": [],
   "source": [
    "# Cell 4: Correlation\n",
    "\"\"\"\n",
    "## Correlation\n",
    "Normalized covariance, ranges from -1 to 1.\n",
    "\"\"\"\n"
   ]
  },
  {
   "cell_type": "code",
   "execution_count": null,
   "id": "c0f4bf4e",
   "metadata": {
    "vscode": {
     "languageId": "plaintext"
    }
   },
   "outputs": [],
   "source": [
    "corr_matrix = np.corrcoef(x, y)\n",
    "corr_matrix\n"
   ]
  },
  {
   "cell_type": "code",
   "execution_count": null,
   "id": "caa4b8b5",
   "metadata": {
    "vscode": {
     "languageId": "plaintext"
    }
   },
   "outputs": [],
   "source": [
    "# Cell 5: Negative correlation example\n",
    "x = np.array([1, 2, 3, 4, 5])\n",
    "y = np.array([10, 8, 6, 4, 2])  # Strong negative relationship\n",
    "\n",
    "print(\"Covariance matrix:\")\n",
    "print(np.cov(x, y))\n",
    "\n",
    "print(\"Correlation matrix:\")\n",
    "print(np.corrcoef(x, y))\n"
   ]
  },
  {
   "cell_type": "code",
   "execution_count": null,
   "id": "cb7b01d8",
   "metadata": {
    "vscode": {
     "languageId": "plaintext"
    }
   },
   "outputs": [],
   "source": [
    "# Cell 6: Visualization\n",
    "x = np.random.randn(100)\n",
    "y = 2*x + np.random.randn(100)  # positive correlation\n",
    "\n",
    "plt.scatter(x, y, alpha=0.7)\n",
    "plt.title(\"Scatter Plot Showing Positive Correlation\")\n",
    "plt.xlabel(\"X\")\n",
    "plt.ylabel(\"Y\")\n",
    "plt.show()\n"
   ]
  },
  {
   "cell_type": "code",
   "execution_count": null,
   "id": "110aa0b2",
   "metadata": {
    "vscode": {
     "languageId": "plaintext"
    }
   },
   "outputs": [],
   "source": [
    "\"\"\"\n",
    "---\n",
    "\n",
    "### Notes\n",
    "- **Covariance**: tells direction of relationship (scale dependent).\n",
    "- **Correlation**: tells strength & direction (scale independent).\n",
    "- Important in ML for feature engineering, avoiding multicollinearity.\n",
    "\n",
    "**End of Day 7.**\n",
    "\"\"\"\n"
   ]
  }
 ],
 "metadata": {
  "language_info": {
   "name": "python"
  }
 },
 "nbformat": 4,
 "nbformat_minor": 5
}
