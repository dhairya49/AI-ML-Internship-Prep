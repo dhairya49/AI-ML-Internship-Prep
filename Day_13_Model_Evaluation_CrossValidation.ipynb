{
 "cells": [
  {
   "cell_type": "markdown",
   "id": "7c270491",
   "metadata": {},
   "source": [
    "\n",
    "# Day 13 — Model Evaluation & Cross-Validation\n",
    "\n",
    "**Author:** Dhairya Patel  \n",
    "\n",
    "This notebook covers:\n",
    "1. Train-test split limitations\n",
    "2. K-Fold Cross Validation\n",
    "3. Evaluation Metrics (Accuracy, Precision, Recall, F1)\n",
    "4. Confusion Matrix & Classification Report\n"
   ]
  },
  {
   "cell_type": "code",
   "execution_count": null,
   "id": "d0a37177",
   "metadata": {},
   "outputs": [],
   "source": [
    "\n",
    "import numpy as np\n",
    "import pandas as pd\n",
    "from sklearn.datasets import make_classification\n",
    "from sklearn.model_selection import train_test_split, cross_val_score, KFold\n",
    "from sklearn.linear_model import LogisticRegression\n",
    "from sklearn.metrics import accuracy_score, confusion_matrix, classification_report\n",
    "import matplotlib.pyplot as plt\n",
    "import seaborn as sns\n"
   ]
  },
  {
   "cell_type": "code",
   "execution_count": null,
   "id": "9892c059",
   "metadata": {},
   "outputs": [],
   "source": [
    "\n",
    "# Create a synthetic dataset\n",
    "X, y = make_classification(n_samples=300, n_features=5, n_classes=2, random_state=42)\n",
    "X_train, X_test, y_train, y_test = train_test_split(X, y, test_size=0.2, random_state=42)\n",
    "\n",
    "print(\"Training Set:\", X_train.shape)\n",
    "print(\"Testing Set:\", X_test.shape)\n"
   ]
  },
  {
   "cell_type": "code",
   "execution_count": null,
   "id": "e1ebc6b4",
   "metadata": {},
   "outputs": [],
   "source": [
    "\n",
    "# Train a Logistic Regression model\n",
    "log_model = LogisticRegression()\n",
    "log_model.fit(X_train, y_train)\n",
    "y_pred = log_model.predict(X_test)\n",
    "\n",
    "print(\"Accuracy on Test Set:\", accuracy_score(y_test, y_pred))\n",
    "print(\"Confusion Matrix:\\n\", confusion_matrix(y_test, y_pred))\n",
    "print(\"Classification Report:\\n\", classification_report(y_test, y_pred))\n"
   ]
  },
  {
   "cell_type": "code",
   "execution_count": null,
   "id": "53ddea4c",
   "metadata": {},
   "outputs": [],
   "source": [
    "\n",
    "# Perform K-Fold Cross Validation\n",
    "kf = KFold(n_splits=5, shuffle=True, random_state=42)\n",
    "scores = cross_val_score(log_model, X, y, cv=kf, scoring='accuracy')\n",
    "\n",
    "print(\"Cross-Validation Scores:\", scores)\n",
    "print(\"Mean CV Accuracy:\", scores.mean())\n"
   ]
  },
  {
   "cell_type": "code",
   "execution_count": null,
   "id": "75ee74ff",
   "metadata": {},
   "outputs": [],
   "source": [
    "\n",
    "cm = confusion_matrix(y_test, y_pred)\n",
    "sns.heatmap(cm, annot=True, fmt='d', cmap='Blues')\n",
    "plt.xlabel(\"Predicted\")\n",
    "plt.ylabel(\"Actual\")\n",
    "plt.title(\"Confusion Matrix Heatmap\")\n",
    "plt.show()\n"
   ]
  },
  {
   "cell_type": "markdown",
   "id": "876f62cb",
   "metadata": {},
   "source": [
    "\n",
    "---\n",
    "\n",
    "### Notes\n",
    "- **Accuracy** alone is not enough for imbalanced datasets.  \n",
    "- **Precision & Recall** help evaluate performance on minority classes.  \n",
    "- **Cross-validation** provides a more reliable performance estimate.  \n",
    "- Confusion matrices make classification errors easier to analyze.  \n",
    "\n",
    "**End of Day 13.**\n"
   ]
  }
 ],
 "metadata": {},
 "nbformat": 4,
 "nbformat_minor": 5
}
