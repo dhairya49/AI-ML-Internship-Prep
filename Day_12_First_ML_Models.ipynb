{
 "cells": [
  {
   "cell_type": "markdown",
   "id": "48c28837",
   "metadata": {},
   "source": [
    "\n",
    "# Day 12 — Building First ML Models\n",
    "\n",
    "**Author:** Dhairya Patel  \n",
    "\n",
    "This notebook covers:\n",
    "1. Logistic Regression\n",
    "2. Decision Tree Classifier\n",
    "3. Model Evaluation\n"
   ]
  },
  {
   "cell_type": "code",
   "execution_count": null,
   "id": "b2b14aa6",
   "metadata": {},
   "outputs": [],
   "source": [
    "\n",
    "import numpy as np\n",
    "import pandas as pd\n",
    "from sklearn.datasets import make_classification\n",
    "from sklearn.model_selection import train_test_split\n",
    "from sklearn.linear_model import LogisticRegression\n",
    "from sklearn.tree import DecisionTreeClassifier, plot_tree\n",
    "from sklearn.metrics import accuracy_score, confusion_matrix\n",
    "import matplotlib.pyplot as plt\n"
   ]
  },
  {
   "cell_type": "code",
   "execution_count": null,
   "id": "85b58749",
   "metadata": {},
   "outputs": [],
   "source": [
    "\n",
    "# Create a synthetic dataset for binary classification\n",
    "X, y = make_classification(n_samples=200, n_features=4, n_classes=2, random_state=42)\n",
    "X_train, X_test, y_train, y_test = train_test_split(X, y, test_size=0.2, random_state=42)\n",
    "\n",
    "print(\"Training Set Shape:\", X_train.shape)\n",
    "print(\"Testing Set Shape:\", X_test.shape)\n"
   ]
  },
  {
   "cell_type": "code",
   "execution_count": null,
   "id": "c6caea09",
   "metadata": {},
   "outputs": [],
   "source": [
    "\n",
    "# Logistic Regression Model\n",
    "log_model = LogisticRegression()\n",
    "log_model.fit(X_train, y_train)\n",
    "\n",
    "y_pred_log = log_model.predict(X_test)\n",
    "print(\"Logistic Regression Accuracy:\", accuracy_score(y_test, y_pred_log))\n",
    "print(\"Confusion Matrix:\\n\", confusion_matrix(y_test, y_pred_log))\n"
   ]
  },
  {
   "cell_type": "code",
   "execution_count": null,
   "id": "f8f4539b",
   "metadata": {},
   "outputs": [],
   "source": [
    "\n",
    "# Decision Tree Classifier Model\n",
    "tree_model = DecisionTreeClassifier(max_depth=3, random_state=42)\n",
    "tree_model.fit(X_train, y_train)\n",
    "\n",
    "y_pred_tree = tree_model.predict(X_test)\n",
    "print(\"Decision Tree Accuracy:\", accuracy_score(y_test, y_pred_tree))\n",
    "print(\"Confusion Matrix:\\n\", confusion_matrix(y_test, y_pred_tree))\n",
    "\n",
    "# Visualize Decision Tree\n",
    "plt.figure(figsize=(10,6))\n",
    "plot_tree(tree_model, filled=True, feature_names=[f'Feature {i}' for i in range(X.shape[1])])\n",
    "plt.show()\n"
   ]
  },
  {
   "cell_type": "markdown",
   "id": "3035bf82",
   "metadata": {},
   "source": [
    "\n",
    "---\n",
    "\n",
    "### Notes\n",
    "- Logistic Regression is a linear model great for binary classification.\n",
    "- Decision Trees are non-linear and easy to interpret.\n",
    "- Always evaluate models with accuracy and confusion matrix.\n",
    "\n",
    "**End of Day 12.**\n"
   ]
  }
 ],
 "metadata": {},
 "nbformat": 4,
 "nbformat_minor": 5
}
