{
 "cells": [
  {
   "cell_type": "markdown",
   "id": "b231a867",
   "metadata": {},
   "source": [
    "\n",
    "# Day 10 — Introduction to Scikit-Learn\n",
    "\n",
    "**Author:** Dhairya Patel  \n",
    "\n",
    "This notebook covers:\n",
    "1. What is Scikit-Learn?\n",
    "2. Built-in Datasets\n",
    "3. Train-Test Split\n",
    "4. First Classifier: k-Nearest Neighbors (kNN)\n"
   ]
  },
  {
   "cell_type": "code",
   "execution_count": null,
   "id": "3e8bae1b",
   "metadata": {},
   "outputs": [],
   "source": [
    "\n",
    "import numpy as np\n",
    "import matplotlib.pyplot as plt\n",
    "from sklearn import datasets\n",
    "from sklearn.model_selection import train_test_split\n",
    "from sklearn.neighbors import KNeighborsClassifier\n",
    "from sklearn.metrics import accuracy_score\n"
   ]
  },
  {
   "cell_type": "markdown",
   "id": "a43e24ec",
   "metadata": {},
   "source": [
    "## What is Scikit-Learn?\n",
    "A Python library for machine learning providing preprocessing, model training, and evaluation tools."
   ]
  },
  {
   "cell_type": "markdown",
   "id": "30e93edd",
   "metadata": {},
   "source": [
    "## Loading a Built-in Dataset (Iris)"
   ]
  },
  {
   "cell_type": "code",
   "execution_count": null,
   "id": "afa691a5",
   "metadata": {},
   "outputs": [],
   "source": [
    "\n",
    "iris = datasets.load_iris()\n",
    "X, y = iris.data, iris.target\n",
    "\n",
    "print(\"Features shape:\", X.shape)\n",
    "print(\"Target shape:\", y.shape)\n",
    "print(\"Feature names:\", iris.feature_names)\n"
   ]
  },
  {
   "cell_type": "markdown",
   "id": "2c763ccc",
   "metadata": {},
   "source": [
    "## Train-Test Split"
   ]
  },
  {
   "cell_type": "code",
   "execution_count": null,
   "id": "e766863d",
   "metadata": {},
   "outputs": [],
   "source": [
    "\n",
    "X_train, X_test, y_train, y_test = train_test_split(X, y, test_size=0.3, random_state=42)\n",
    "print(\"Training set size:\", X_train.shape[0])\n",
    "print(\"Test set size:\", X_test.shape[0])\n"
   ]
  },
  {
   "cell_type": "markdown",
   "id": "c4338eff",
   "metadata": {},
   "source": [
    "## First Classifier: k-Nearest Neighbors (kNN)"
   ]
  },
  {
   "cell_type": "code",
   "execution_count": null,
   "id": "c64510bb",
   "metadata": {},
   "outputs": [],
   "source": [
    "\n",
    "knn = KNeighborsClassifier(n_neighbors=3)\n",
    "knn.fit(X_train, y_train)\n",
    "y_pred = knn.predict(X_test)\n",
    "\n",
    "print(\"kNN Accuracy:\", accuracy_score(y_test, y_pred))\n"
   ]
  },
  {
   "cell_type": "markdown",
   "id": "4a24f0cd",
   "metadata": {},
   "source": [
    "\n",
    "---\n",
    "\n",
    "### Notes\n",
    "- **Scikit-Learn** simplifies ML workflows with datasets, preprocessing, and models.\n",
    "- **Iris dataset**: a classic beginner dataset for classification.\n",
    "- **Train-test split**: ensures proper model evaluation.\n",
    "- **kNN**: simple yet effective algorithm based on neighbors.\n",
    "\n",
    "**End of Day 10.**\n"
   ]
  }
 ],
 "metadata": {},
 "nbformat": 4,
 "nbformat_minor": 5
}
