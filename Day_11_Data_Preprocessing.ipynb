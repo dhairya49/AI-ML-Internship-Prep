{
 "cells": [
  {
   "cell_type": "markdown",
   "id": "89e9522f",
   "metadata": {},
   "source": [
    "\n",
    "# Day 11 — Data Preprocessing with Scikit-Learn\n",
    "\n",
    "**Author:** Dhairya Patel  \n",
    "\n",
    "This notebook covers:\n",
    "1. Handling missing values\n",
    "2. Encoding categorical variables\n",
    "3. Feature scaling\n",
    "4. Train-test split\n"
   ]
  },
  {
   "cell_type": "code",
   "execution_count": null,
   "id": "ea002de9",
   "metadata": {},
   "outputs": [],
   "source": [
    "\n",
    "import numpy as np\n",
    "import pandas as pd\n",
    "from sklearn.model_selection import train_test_split\n",
    "from sklearn.impute import SimpleImputer\n",
    "from sklearn.preprocessing import LabelEncoder, StandardScaler\n"
   ]
  },
  {
   "cell_type": "code",
   "execution_count": null,
   "id": "53566c3f",
   "metadata": {},
   "outputs": [],
   "source": [
    "\n",
    "data = {\n",
    "    'Age': [25, np.nan, 28, 35, 40, np.nan],\n",
    "    'Salary': [50000, 60000, np.nan, 80000, 90000, 75000],\n",
    "    'Gender': ['Male', 'Female', 'Female', 'Male', 'Male', 'Female'],\n",
    "    'Purchased': ['No', 'Yes', 'No', 'No', 'Yes', 'Yes']\n",
    "}\n",
    "df = pd.DataFrame(data)\n",
    "print(\"Original Dataset:\")\n",
    "print(df)\n"
   ]
  },
  {
   "cell_type": "code",
   "execution_count": null,
   "id": "85b8f8c3",
   "metadata": {},
   "outputs": [],
   "source": [
    "\n",
    "imputer = SimpleImputer(strategy='mean')\n",
    "df[['Age', 'Salary']] = imputer.fit_transform(df[['Age', 'Salary']])\n",
    "print(\"After Handling Missing Values:\")\n",
    "print(df)\n"
   ]
  },
  {
   "cell_type": "code",
   "execution_count": null,
   "id": "2cd80901",
   "metadata": {},
   "outputs": [],
   "source": [
    "\n",
    "# Label Encoding for target variable\n",
    "label_encoder = LabelEncoder()\n",
    "df['Purchased'] = label_encoder.fit_transform(df['Purchased'])\n",
    "\n",
    "# One-hot encoding for Gender\n",
    "df = pd.get_dummies(df, columns=['Gender'], drop_first=True)\n",
    "print(\"After Encoding:\")\n",
    "print(df)\n"
   ]
  },
  {
   "cell_type": "code",
   "execution_count": null,
   "id": "7df693c3",
   "metadata": {},
   "outputs": [],
   "source": [
    "\n",
    "scaler = StandardScaler()\n",
    "df[['Age', 'Salary']] = scaler.fit_transform(df[['Age', 'Salary']])\n",
    "print(\"After Scaling:\")\n",
    "print(df)\n"
   ]
  },
  {
   "cell_type": "code",
   "execution_count": null,
   "id": "ed75260f",
   "metadata": {},
   "outputs": [],
   "source": [
    "\n",
    "X = df.drop('Purchased', axis=1)\n",
    "y = df['Purchased']\n",
    "\n",
    "X_train, X_test, y_train, y_test = train_test_split(X, y, test_size=0.2, random_state=42)\n",
    "print(\"Training Features:\")\n",
    "print(X_train)\n",
    "print(\"Testing Features:\")\n",
    "print(X_test)\n"
   ]
  },
  {
   "cell_type": "markdown",
   "id": "53275e6a",
   "metadata": {},
   "source": [
    "\n",
    "---\n",
    "\n",
    "### Notes\n",
    "- **Missing values:** SimpleImputer is great for filling gaps.\n",
    "- **Encoding:** Use one-hot encoding for non-ordinal categories.\n",
    "- **Scaling:** Standardization helps algorithms converge better.\n",
    "- **Train-test split:** Always evaluate on unseen data.\n",
    "\n",
    "**End of Day 11.**\n"
   ]
  }
 ],
 "metadata": {},
 "nbformat": 4,
 "nbformat_minor": 5
}
