{
 "cells": [
  {
   "cell_type": "markdown",
   "id": "f71fd254",
   "metadata": {},
   "source": [
    "\n",
    "# Day 8 — Probability Distributions in Machine Learning Applications\n",
    "\n",
    "**Author:** Dhairya Patel  \n",
    "\n",
    "This notebook covers:\n",
    "1. Bernoulli in Logistic Regression\n",
    "2. Binomial in Experiments\n",
    "3. Normal Distribution in Regression & Neural Nets\n",
    "4. Uniform Distribution in Random Sampling\n"
   ]
  },
  {
   "cell_type": "code",
   "execution_count": null,
   "id": "64f555ee",
   "metadata": {},
   "outputs": [],
   "source": [
    "\n",
    "import numpy as np\n",
    "import matplotlib.pyplot as plt\n",
    "from scipy.stats import bernoulli, binom, norm, uniform\n"
   ]
  },
  {
   "cell_type": "markdown",
   "id": "e49dac1e",
   "metadata": {},
   "source": [
    "## Bernoulli Distribution (Logistic Regression Context)"
   ]
  },
  {
   "cell_type": "code",
   "execution_count": null,
   "id": "c6bf5e82",
   "metadata": {},
   "outputs": [],
   "source": [
    "\n",
    "p = 0.7  # probability of success\n",
    "data = bernoulli.rvs(p, size=1000)\n",
    "\n",
    "plt.hist(data, bins=2, edgecolor='black')\n",
    "plt.title(\"Bernoulli (Logistic Regression Output Example, p=0.7)\")\n",
    "plt.xticks([0,1])\n",
    "plt.show()\n"
   ]
  },
  {
   "cell_type": "markdown",
   "id": "82733b9b",
   "metadata": {},
   "source": [
    "## Binomial Distribution (Experiments)"
   ]
  },
  {
   "cell_type": "code",
   "execution_count": null,
   "id": "6ef0fe00",
   "metadata": {},
   "outputs": [],
   "source": [
    "\n",
    "n, p = 10, 0.6\n",
    "data = binom.rvs(n, p, size=1000)\n",
    "\n",
    "plt.hist(data, bins=10, edgecolor='black')\n",
    "plt.title(\"Binomial (e.g., Successes in 10 Trials, p=0.6)\")\n",
    "plt.show()\n"
   ]
  },
  {
   "cell_type": "markdown",
   "id": "22a63e1a",
   "metadata": {},
   "source": [
    "## Normal Distribution (Regression / Neural Nets)"
   ]
  },
  {
   "cell_type": "code",
   "execution_count": null,
   "id": "6f7d601b",
   "metadata": {},
   "outputs": [],
   "source": [
    "\n",
    "data = norm.rvs(loc=0, scale=1, size=1000)\n",
    "\n",
    "plt.hist(data, bins=30, density=True, edgecolor='black', alpha=0.6)\n",
    "\n",
    "x = np.linspace(-4, 4, 100)\n",
    "plt.plot(x, norm.pdf(x, 0, 1), 'r', label='PDF')\n",
    "plt.legend()\n",
    "plt.title(\"Normal Distribution (Assumed in Regression Errors)\")\n",
    "plt.show()\n"
   ]
  },
  {
   "cell_type": "markdown",
   "id": "ba6e77f2",
   "metadata": {},
   "source": [
    "## Uniform Distribution (Random Initialization)"
   ]
  },
  {
   "cell_type": "code",
   "execution_count": null,
   "id": "ded726df",
   "metadata": {},
   "outputs": [],
   "source": [
    "\n",
    "data = uniform.rvs(size=1000)\n",
    "\n",
    "plt.hist(data, bins=20, edgecolor='black')\n",
    "plt.title(\"Uniform Distribution (Random Sampling/Initialization)\")\n",
    "plt.show()\n"
   ]
  },
  {
   "cell_type": "markdown",
   "id": "7aaf14f8",
   "metadata": {},
   "source": [
    "\n",
    "---\n",
    "\n",
    "### Notes\n",
    "- **Bernoulli**: Logistic Regression outputs probabilities of classes.\n",
    "- **Binomial**: Used in hypothesis testing and multiple trial experiments.\n",
    "- **Normal**: Assumptions in regression; initialization in neural nets.\n",
    "- **Uniform**: Random initialization, Monte Carlo methods.\n",
    "\n",
    "**End of Day 8.**\n"
   ]
  }
 ],
 "metadata": {},
 "nbformat": 4,
 "nbformat_minor": 5
}
