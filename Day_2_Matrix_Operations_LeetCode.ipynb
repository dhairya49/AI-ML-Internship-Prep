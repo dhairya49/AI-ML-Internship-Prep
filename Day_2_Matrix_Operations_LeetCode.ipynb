{
 "cells": [
  {
   "cell_type": "markdown",
   "id": "544ff466",
   "metadata": {},
   "source": [
    "\n",
    "# Day 2 — Matrix Operations, Transformations & Python Practice\n",
    "\n",
    "**Author:** Dhairya Patel\n",
    "\n",
    "This notebook contains:\n",
    "1. Matrix operations in NumPy (addition, subtraction, scalar multiplication, transpose, determinant, inverse, rank, trace).\n",
    "2. Matrix multiplication vs element‑wise multiplication.\n",
    "3. Geometric transformations (scaling, rotation, translation) using both standard and homogeneous coordinates.\n",
    "4. A few LeetCode‑style Python practice templates with tests.\n"
   ]
  },
  {
   "cell_type": "code",
   "execution_count": null,
   "id": "98a7ada8",
   "metadata": {},
   "outputs": [],
   "source": [
    "\n",
    "import numpy as np\n",
    "import math\n",
    "import matplotlib.pyplot as plt\n",
    "\n",
    "np.set_printoptions(suppress=True, precision=4)\n"
   ]
  },
  {
   "cell_type": "markdown",
   "id": "ccf7808a",
   "metadata": {},
   "source": [
    "\n",
    "## 1) Basic Matrix Creation\n",
    "We'll start by creating example matrices to use throughout the notebook.\n"
   ]
  },
  {
   "cell_type": "code",
   "execution_count": null,
   "id": "a5321535",
   "metadata": {},
   "outputs": [],
   "source": [
    "\n",
    "A = np.array([[1, 2, 3],\n",
    "              [4, 5, 6],\n",
    "              [7, 8, 9]])\n",
    "\n",
    "B = np.array([[9, 8, 7],\n",
    "              [6, 5, 4],\n",
    "              [3, 2, 1]])\n",
    "\n",
    "scalar = 3\n",
    "\n",
    "A, B, scalar\n"
   ]
  },
  {
   "cell_type": "markdown",
   "id": "3ba4ef7f",
   "metadata": {},
   "source": [
    "\n",
    "## 2) Element‑wise Operations\n",
    "Addition, subtraction, and scalar multiplication operate element‑wise.\n"
   ]
  },
  {
   "cell_type": "code",
   "execution_count": null,
   "id": "7b3a6c5f",
   "metadata": {},
   "outputs": [],
   "source": [
    "\n",
    "A_plus_B = A + B\n",
    "A_minus_B = A - B\n",
    "A_times_scalar = scalar * A\n",
    "\n",
    "print(\"A + B:\\n\", A_plus_B)\n",
    "print(\"\\nA - B:\\n\", A_minus_B)\n",
    "print(\"\\n3 * A:\\n\", A_times_scalar)\n"
   ]
  },
  {
   "cell_type": "markdown",
   "id": "e7b68190",
   "metadata": {},
   "source": [
    "\n",
    "## 3) Element‑wise Multiplication vs Matrix Multiplication\n",
    "- **Element‑wise** uses `*` or `np.multiply` and multiplies matching entries.\n",
    "- **Matrix multiplication** uses `@` or `np.matmul` and applies linear algebra rules.\n"
   ]
  },
  {
   "cell_type": "code",
   "execution_count": null,
   "id": "e9f4e3ff",
   "metadata": {},
   "outputs": [],
   "source": [
    "\n",
    "elemwise = A * B              # element-wise\n",
    "matmul  = A @ B               # matrix multiplication\n",
    "\n",
    "print(\"Element-wise (A * B):\\n\", elemwise)\n",
    "print(\"\\nMatrix multiplication (A @ B):\\n\", matmul)\n"
   ]
  },
  {
   "cell_type": "markdown",
   "id": "f598e72c",
   "metadata": {},
   "source": [
    "\n",
    "## 4) Linear Algebra Properties\n",
    "- **Transpose** flips rows/cols.\n",
    "- **Trace** is the sum of diagonal elements.\n",
    "- **Determinant** indicates invertibility/volume scaling (0 ⇒ singular).\n",
    "- **Rank** tells how many independent rows/cols.\n",
    "- **Inverse** exists only if `det(A) != 0`.\n"
   ]
  },
  {
   "cell_type": "code",
   "execution_count": null,
   "id": "e03a1f24",
   "metadata": {},
   "outputs": [],
   "source": [
    "\n",
    "A_T = A.T\n",
    "trace_A = np.trace(A)\n",
    "det_A = np.linalg.det(A)\n",
    "rank_A = np.linalg.matrix_rank(A)\n",
    "\n",
    "print(\"A^T:\\n\", A_T)\n",
    "print(\"\\ntrace(A):\", trace_A)\n",
    "print(\"det(A):\", det_A)\n",
    "print(\"rank(A):\", rank_A)\n",
    "\n",
    "# For inverse, use a non-singular matrix C\n",
    "C = np.array([[2., 1., 0.],\n",
    "              [0., 1., 2.],\n",
    "              [1., 0., 1.]])\n",
    "det_C = np.linalg.det(C)\n",
    "C_inv = np.linalg.inv(C)\n",
    "\n",
    "print(\"\\nMatrix C:\\n\", C)\n",
    "print(\"det(C):\", det_C)\n",
    "print(\"C^{-1}:\\n\", C_inv)\n",
    "print(\"\\nCheck C @ C^{-1} (≈ I):\\n\", C @ C_inv)\n"
   ]
  },
  {
   "cell_type": "markdown",
   "id": "c1101797",
   "metadata": {},
   "source": [
    "\n",
    "## 5) Geometric Transformations in 2D\n",
    "\n",
    "We will transform a set of points with:\n",
    "- **Scaling** with matrix `S = [[s_x, 0],[0, s_y]]`\n",
    "- **Rotation** by angle θ with `R = [[cosθ, -sinθ],[sinθ, cosθ]]`\n",
    "\n",
    "We'll also demonstrate **translation** using **homogeneous coordinates** (3×3 matrices).\n"
   ]
  },
  {
   "cell_type": "code",
   "execution_count": null,
   "id": "bfe234e0",
   "metadata": {},
   "outputs": [],
   "source": [
    "\n",
    "# Create a simple square of points\n",
    "square = np.array([[0, 0],\n",
    "                   [1, 0],\n",
    "                   [1, 1],\n",
    "                   [0, 1],\n",
    "                   [0, 0]], dtype=float).T  # shape (2,5) for convenience\n",
    "\n",
    "# Scaling\n",
    "sx, sy = 1.5, 0.75\n",
    "S = np.array([[sx, 0.],\n",
    "              [0., sy]])\n",
    "\n",
    "# Rotation\n",
    "theta = math.radians(30)\n",
    "R = np.array([[math.cos(theta), -math.sin(theta)],\n",
    "              [math.sin(theta),  math.cos(theta)]])\n",
    "\n",
    "# Apply transformations\n",
    "scaled = S @ square          # scale first\n",
    "rotated = R @ square         # rotate\n",
    "\n",
    "# Plot original square\n",
    "plt.figure()\n",
    "plt.title(\"Original square (2D)\")\n",
    "plt.plot(square[0], square[1], marker='o')\n",
    "plt.axis('equal')\n",
    "plt.grid(True)\n",
    "plt.show()\n"
   ]
  },
  {
   "cell_type": "code",
   "execution_count": null,
   "id": "bcc8cfe4",
   "metadata": {},
   "outputs": [],
   "source": [
    "\n",
    "# Plot scaled square\n",
    "plt.figure()\n",
    "plt.title(\"Scaled square (sx=1.5, sy=0.75)\")\n",
    "plt.plot(scaled[0], scaled[1], marker='o')\n",
    "plt.axis('equal')\n",
    "plt.grid(True)\n",
    "plt.show()\n"
   ]
  },
  {
   "cell_type": "code",
   "execution_count": null,
   "id": "ad8ea3f0",
   "metadata": {},
   "outputs": [],
   "source": [
    "\n",
    "# Plot rotated square\n",
    "plt.figure()\n",
    "plt.title(\"Rotated square (theta = 30°)\")\n",
    "plt.plot(rotated[0], rotated[1], marker='o')\n",
    "plt.axis('equal')\n",
    "plt.grid(True)\n",
    "plt.show()\n"
   ]
  },
  {
   "cell_type": "markdown",
   "id": "d0ce465e",
   "metadata": {},
   "source": [
    "\n",
    "### Translation via Homogeneous Coordinates\n",
    "To translate by `(t_x, t_y)`, use 3×3 matrices and lift points to `[x, y, 1]^T`.\n"
   ]
  },
  {
   "cell_type": "code",
   "execution_count": null,
   "id": "d2fc1cad",
   "metadata": {},
   "outputs": [],
   "source": [
    "\n",
    "# Lift to homogeneous: shape (3, N)\n",
    "ones = np.ones((1, square.shape[1]))\n",
    "square_h = np.vstack([square, ones])\n",
    "\n",
    "tx, ty = 2.0, -0.5\n",
    "T = np.array([[1., 0., tx],\n",
    "              [0., 1., ty],\n",
    "              [0., 0., 1.]])\n",
    "\n",
    "translated_h = T @ square_h\n",
    "translated = translated_h[:2]  # back to 2D\n",
    "\n",
    "plt.figure()\n",
    "plt.title(\"Translated square (tx=2.0, ty=-0.5)\")\n",
    "plt.plot(translated[0], translated[1], marker='o')\n",
    "plt.axis('equal')\n",
    "plt.grid(True)\n",
    "plt.show()\n"
   ]
  },
  {
   "cell_type": "markdown",
   "id": "65ddb1dc",
   "metadata": {},
   "source": [
    "\n",
    "## 6) Practical Mini‑Example: Linear Transform Composition\n",
    "Apply `R @ S` to show composition order matters (rotation after scaling).\n"
   ]
  },
  {
   "cell_type": "code",
   "execution_count": null,
   "id": "a0be985a",
   "metadata": {},
   "outputs": [],
   "source": [
    "\n",
    "RS = R @ S\n",
    "rs_square = RS @ square\n",
    "\n",
    "plt.figure()\n",
    "plt.title(\"Composition: R @ S applied to square\")\n",
    "plt.plot(rs_square[0], rs_square[1], marker='o')\n",
    "plt.axis('equal')\n",
    "plt.grid(True)\n",
    "plt.show()\n"
   ]
  },
  {
   "cell_type": "markdown",
   "id": "22c8b2bc",
   "metadata": {},
   "source": [
    "\n",
    "## 7) Python Practice (LeetCode‑style)\n",
    "\n",
    "Below are a few templates/problems to keep problem‑solving sharp while doing ML.\n"
   ]
  },
  {
   "cell_type": "markdown",
   "id": "ceb1f1cf",
   "metadata": {},
   "source": [
    "\n",
    "### Problem A: Two Sum (Array / Hash Map)\n",
    "**Task:** Given an array of integers `nums` and an integer `target`, return indices of the two numbers such that they add up to `target`.\n"
   ]
  },
  {
   "cell_type": "code",
   "execution_count": null,
   "id": "4a65912b",
   "metadata": {},
   "outputs": [],
   "source": [
    "\n",
    "def two_sum(nums, target):\n",
    "    seen = {}\n",
    "    for i, x in enumerate(nums):\n",
    "        diff = target - x\n",
    "        if diff in seen:\n",
    "            return [seen[diff], i]\n",
    "        seen[x] = i\n",
    "    return []\n",
    "\n",
    "# Tests\n",
    "print(two_sum([2,7,11,15], 9))     # [0,1]\n",
    "print(two_sum([3,2,4], 6))         # [1,2]\n",
    "print(two_sum([3,3], 6))           # [0,1]\n"
   ]
  },
  {
   "cell_type": "markdown",
   "id": "f1fe2843",
   "metadata": {},
   "source": [
    "\n",
    "### Problem B: Valid Parentheses (Stack)\n",
    "**Task:** Given a string containing just the characters `'()[]{}'`, determine if the input string is valid.\n"
   ]
  },
  {
   "cell_type": "code",
   "execution_count": null,
   "id": "917f3158",
   "metadata": {},
   "outputs": [],
   "source": [
    "\n",
    "def is_valid_parentheses(s):\n",
    "    stack = []\n",
    "    pairs = {')':'(', ']':'[', '}':'{'}\n",
    "    for ch in s:\n",
    "        if ch in '([{':\n",
    "            stack.append(ch)\n",
    "        else:\n",
    "            if not stack or stack[-1] != pairs.get(ch, None):\n",
    "                return False\n",
    "            stack.pop()\n",
    "    return len(stack) == 0\n",
    "\n",
    "# Tests\n",
    "print(is_valid_parentheses(\"()\"))          # True\n",
    "print(is_valid_parentheses(\"()[]{}\"))      # True\n",
    "print(is_valid_parentheses(\"(]\"))          # False\n",
    "print(is_valid_parentheses(\"([)]\"))        # False\n",
    "print(is_valid_parentheses(\"{[]}\"))        # True\n"
   ]
  },
  {
   "cell_type": "markdown",
   "id": "83f254e3",
   "metadata": {},
   "source": [
    "\n",
    "### Problem C: Matrix Diagonal Sum\n",
    "**Task:** Given a square matrix `M`, return the sum of its primary and secondary diagonals. Avoid double‑counting the center element when `n` is odd.\n"
   ]
  },
  {
   "cell_type": "code",
   "execution_count": null,
   "id": "1bf61ca2",
   "metadata": {},
   "outputs": [],
   "source": [
    "\n",
    "def diagonal_sum(M):\n",
    "    n = len(M)\n",
    "    total = 0\n",
    "    for i in range(n):\n",
    "        total += M[i][i]                # primary\n",
    "        total += M[i][n-1-i]            # secondary\n",
    "    if n % 2 == 1:\n",
    "        total -= M[n//2][n//2]          # remove center double-count\n",
    "    return total\n",
    "\n",
    "# Tests\n",
    "print(diagonal_sum([[1,2,3],\n",
    "                    [4,5,6],\n",
    "                    [7,8,9]]))          # 25\n",
    "print(diagonal_sum([[5]]))               # 5\n",
    "print(diagonal_sum([[1,1],[1,1]]))       # 4\n"
   ]
  },
  {
   "cell_type": "markdown",
   "id": "e3da0773",
   "metadata": {},
   "source": [
    "\n",
    "---\n",
    "\n",
    "### Notes\n",
    "- Keep the figures and outputs in the notebook when pushing to GitHub to show your actual work.\n",
    "- Consider adding a short README in the repo explaining Day 1 and Day 2 folders.\n",
    "- Next time: eigenvalues/eigenvectors & connecting transforms to PCA.\n",
    "\n",
    "**End of Day 2.**\n"
   ]
  }
 ],
 "metadata": {},
 "nbformat": 4,
 "nbformat_minor": 5
}
