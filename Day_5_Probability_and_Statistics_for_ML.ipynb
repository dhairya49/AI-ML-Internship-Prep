{
 "cells": [
  {
   "cell_type": "code",
   "execution_count": null,
   "id": "39c6544e",
   "metadata": {},
   "outputs": [],
   "source": [
    "# ──────────────────────────────\n",
    "# Day 5 — Probability & Statistics for Machine Learning\n",
    "# ──────────────────────────────\n",
    "\n",
    "\"\"\"\n",
    "# Day 5 — Probability & Statistics for Machine Learning\n",
    "\n",
    "**Author:** Dhairya Patel  \n",
    "\n",
    "This notebook covers:\n",
    "1. Random variables & distributions\n",
    "2. Mean, median, mode\n",
    "3. Variance & standard deviation\n",
    "4. Probability basics\n",
    "5. Visualization of distributions\n",
    "\"\"\"\n"
   ]
  },
  {
   "cell_type": "code",
   "execution_count": null,
   "id": "ca537982",
   "metadata": {},
   "outputs": [],
   "source": [
    "import numpy as np\n",
    "import matplotlib.pyplot as plt\n",
    "from scipy.stats import norm, bernoulli, binom\n"
   ]
  },
  {
   "cell_type": "code",
   "execution_count": null,
   "id": "2ff05a0b",
   "metadata": {},
   "outputs": [],
   "source": [
    "\"\"\"\n",
    "## 1) Random Variables & Distributions\n",
    "We can simulate random variables using NumPy.\n",
    "\"\"\"\n"
   ]
  },
  {
   "cell_type": "code",
   "execution_count": null,
   "id": "c275b975",
   "metadata": {},
   "outputs": [],
   "source": [
    "# Uniform random variable\n",
    "uniform_rv = np.random.uniform(0, 1, 1000)\n",
    "\n",
    "plt.hist(uniform_rv, bins=20, edgecolor='black')\n",
    "plt.title(\"Uniform Distribution (0,1)\")\n",
    "plt.show()\n"
   ]
  },
  {
   "cell_type": "code",
   "execution_count": null,
   "id": "54277e30",
   "metadata": {},
   "outputs": [],
   "source": [
    "\"\"\"\n",
    "## 2) Mean, Median, Mode\n",
    "\"\"\"\n"
   ]
  },
  {
   "cell_type": "code",
   "execution_count": null,
   "id": "250f54ac",
   "metadata": {},
   "outputs": [],
   "source": [
    "data = [1, 2, 2, 3, 4, 5, 100]\n",
    "\n",
    "mean = np.mean(data)\n",
    "median = np.median(data)\n",
    "\n",
    "# Mode (manual since scipy.mode is deprecated in newer versions)\n",
    "values, counts = np.unique(data, return_counts=True)\n",
    "mode = values[np.argmax(counts)]\n",
    "\n",
    "mean, median, mode\n"
   ]
  },
  {
   "cell_type": "code",
   "execution_count": null,
   "id": "beb02c41",
   "metadata": {},
   "outputs": [],
   "source": [
    "\"\"\"\n",
    "## 3) Variance & Standard Deviation\n",
    "Measures how spread out data is.\n",
    "\"\"\"\n"
   ]
  },
  {
   "cell_type": "code",
   "execution_count": null,
   "id": "e309e329",
   "metadata": {},
   "outputs": [],
   "source": [
    "variance = np.var(data)\n",
    "std_dev = np.std(data)\n",
    "\n",
    "variance, std_dev\n"
   ]
  },
  {
   "cell_type": "code",
   "execution_count": null,
   "id": "1bc78983",
   "metadata": {},
   "outputs": [],
   "source": [
    "\"\"\"\n",
    "## 4) Probability Basics\n",
    "Simple probability experiments using Bernoulli and Binomial distributions.\n",
    "\"\"\"\n"
   ]
  },
  {
   "cell_type": "code",
   "execution_count": null,
   "id": "bd984822",
   "metadata": {},
   "outputs": [],
   "source": [
    "# 1 = success, 0 = failure\n",
    "bernoulli_trials = bernoulli.rvs(p=0.5, size=1000)\n",
    "\n",
    "plt.hist(bernoulli_trials, bins=2, edgecolor='black')\n",
    "plt.title(\"Bernoulli Distribution (p=0.5)\")\n",
    "plt.show()\n"
   ]
  },
  {
   "cell_type": "code",
   "execution_count": null,
   "id": "0a7f499b",
   "metadata": {},
   "outputs": [],
   "source": [
    "binom_data = binom.rvs(n=10, p=0.5, size=1000)\n",
    "\n",
    "plt.hist(binom_data, bins=10, edgecolor='black')\n",
    "plt.title(\"Binomial Distribution (n=10, p=0.5)\")\n",
    "plt.show()\n"
   ]
  },
  {
   "cell_type": "code",
   "execution_count": null,
   "id": "7c040d2a",
   "metadata": {},
   "outputs": [],
   "source": [
    "normal_data = np.random.normal(0, 1, 1000)\n",
    "\n",
    "plt.hist(normal_data, bins=30, density=True, edgecolor='black', alpha=0.6)\n",
    "\n",
    "# PDF curve\n",
    "x = np.linspace(-4, 4, 100)\n",
    "plt.plot(x, norm.pdf(x, 0, 1), 'r', label='PDF')\n",
    "plt.legend()\n",
    "plt.title(\"Normal Distribution (mean=0, std=1)\")\n",
    "plt.show()\n"
   ]
  },
  {
   "cell_type": "code",
   "execution_count": null,
   "id": "813089bb",
   "metadata": {},
   "outputs": [],
   "source": [
    "\"\"\"\n",
    "---\n",
    "\n",
    "### Notes\n",
    "- Probability helps model uncertainty in ML.\n",
    "- Statistics (mean, variance) summarize data.\n",
    "- Distributions (Normal, Bernoulli, Binomial) appear everywhere in ML.\n",
    "\n",
    "**End of Day 5.**\n",
    "\"\"\"\n"
   ]
  }
 ],
 "metadata": {
  "language_info": {
   "name": "python"
  }
 },
 "nbformat": 4,
 "nbformat_minor": 5
}
