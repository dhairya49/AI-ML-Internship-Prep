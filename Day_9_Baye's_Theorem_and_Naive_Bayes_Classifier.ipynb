{
 "cells": [
  {
   "cell_type": "code",
   "execution_count": null,
   "id": "e750e4cc",
   "metadata": {},
   "outputs": [],
   "source": [
    "# ──────────────────────────────\n",
    "# Day 9 — Bayes’ Theorem & Naive Bayes Classifier\n",
    "# ──────────────────────────────\n",
    "\n",
    "# Cell 1: Title & Intro (Markdown)\n",
    "\"\"\"\n",
    "# Day 9 — Bayes’ Theorem & Naive Bayes Classifier\n",
    "\n",
    "**Author:** Dhairya Patel  \n",
    "\n",
    "This notebook covers:\n",
    "1. Bayes’ Theorem\n",
    "2. Naive Bayes Classifier (Gaussian, Multinomial, Bernoulli)\n",
    "3. Applications in classification problems\n",
    "\"\"\"\n"
   ]
  },
  {
   "cell_type": "code",
   "execution_count": null,
   "id": "fe67f544",
   "metadata": {},
   "outputs": [],
   "source": [
    "# Cell 2: Imports\n",
    "import numpy as np\n",
    "import matplotlib.pyplot as plt\n",
    "from sklearn.naive_bayes import GaussianNB, MultinomialNB, BernoulliNB\n",
    "from sklearn.datasets import make_classification\n",
    "from sklearn.model_selection import train_test_split\n",
    "from sklearn.metrics import accuracy_score\n"
   ]
  },
  {
   "cell_type": "code",
   "execution_count": null,
   "id": "89b434fa",
   "metadata": {},
   "outputs": [],
   "source": [
    "# Cell 3: Bayes’ Theorem Example\n",
    "\"\"\"\n",
    "## Bayes' Theorem Example\n",
    "\n",
    "We want to compute: P(Disease | Positive Test)\n",
    "\"\"\"\n"
   ]
  },
  {
   "cell_type": "code",
   "execution_count": null,
   "id": "16aff115",
   "metadata": {},
   "outputs": [],
   "source": [
    "# Example probabilities\n",
    "P_Disease = 0.01\n",
    "P_Positive_given_Disease = 0.9\n",
    "P_Positive_given_NoDisease = 0.05\n",
    "\n",
    "P_Positive = (P_Positive_given_Disease * P_Disease) + (P_Positive_given_NoDisease * (1 - P_Disease))\n",
    "P_Disease_given_Positive = (P_Positive_given_Disease * P_Disease) / P_Positive\n",
    "\n",
    "print(\"P(Disease | Positive Test) =\", P_Disease_given_Positive)\n"
   ]
  },
  {
   "cell_type": "code",
   "execution_count": null,
   "id": "219e2ac2",
   "metadata": {},
   "outputs": [],
   "source": [
    "# Cell 4: Gaussian Naive Bayes on synthetic dataset\n",
    "X, y = make_classification(n_samples=1000, n_features=5, random_state=42)\n",
    "X_train, X_test, y_train, y_test = train_test_split(X, y, test_size=0.3, random_state=42)\n",
    "\n",
    "gnb = GaussianNB()\n",
    "gnb.fit(X_train, y_train)\n",
    "y_pred = gnb.predict(X_test)\n",
    "\n",
    "print(\"Gaussian Naive Bayes Accuracy:\", accuracy_score(y_test, y_pred))\n"
   ]
  },
  {
   "cell_type": "code",
   "execution_count": null,
   "id": "3308050d",
   "metadata": {},
   "outputs": [],
   "source": [
    "# Cell 5: Multinomial Naive Bayes Example (text-like data)\n",
    "X = np.random.randint(5, size=(10, 5))  # toy word count data\n",
    "y = np.array([0,1,0,1,0,1,0,1,0,1])\n",
    "\n",
    "mnb = MultinomialNB()\n",
    "mnb.fit(X, y)\n",
    "print(\"MultinomialNB Predictions:\", mnb.predict(X))\n"
   ]
  },
  {
   "cell_type": "code",
   "execution_count": null,
   "id": "c05bb4a1",
   "metadata": {},
   "outputs": [],
   "source": [
    "# Cell 6: Bernoulli Naive Bayes Example (binary features)\n",
    "X = np.random.randint(2, size=(10, 5))\n",
    "y = np.array([0,1,0,1,0,1,0,1,0,1])\n",
    "\n",
    "bnb = BernoulliNB()\n",
    "bnb.fit(X, y)\n",
    "print(\"BernoulliNB Predictions:\", bnb.predict(X))\n"
   ]
  },
  {
   "cell_type": "code",
   "execution_count": null,
   "id": "adc5289a",
   "metadata": {},
   "outputs": [],
   "source": [
    "# Outro (Markdown)\n",
    "\"\"\"\n",
    "---\n",
    "\n",
    "### Notes\n",
    "- Bayes’ Theorem: foundation of probabilistic ML.\n",
    "- Naive Bayes: assumes feature independence, but works surprisingly well.\n",
    "- Variants: Gaussian (continuous), Multinomial (counts), Bernoulli (binary).\n",
    "- Applications: spam detection, sentiment analysis, document classification.\n",
    "\n",
    "**End of Day 9.**\n",
    "\"\"\"\n"
   ]
  }
 ],
 "metadata": {
  "language_info": {
   "name": "python"
  }
 },
 "nbformat": 4,
 "nbformat_minor": 5
}
